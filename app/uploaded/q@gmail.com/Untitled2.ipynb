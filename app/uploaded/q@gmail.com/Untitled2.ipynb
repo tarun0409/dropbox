{
 "cells": [
  {
   "cell_type": "code",
   "execution_count": 5,
   "metadata": {},
   "outputs": [
    {
     "name": "stdout",
     "output_type": "stream",
     "text": [
      "child\n",
      "left\n",
      "right\n",
      "parent\n"
     ]
    }
   ],
   "source": [
    "class Parent(object):\n",
    "    def __init__(self):\n",
    "        super(Parent, self).__init__()\n",
    "        print \"parent\"\n",
    "class Left(Parent):\n",
    "    def __init__(self):\n",
    "        super(Left, self).__init__()\n",
    "        print \"left\"\n",
    "class Right(Parent):\n",
    "    def __init__(self):\n",
    "        super(Right, self).__init__()\n",
    "        print \"right\"\n",
    "class Child(Left, Right):\n",
    "    def __init__(self):\n",
    "        super(Child, self).__init__()\n",
    "        print \"child\"\n",
    "        \n",
    "c = Child()        "
   ]
  },
  {
   "cell_type": "code",
   "execution_count": 9,
   "metadata": {},
   "outputs": [
    {
     "name": "stdout",
     "output_type": "stream",
     "text": [
      "m of D called\n",
      "m of B called\n",
      "m of A called\n",
      "m of C called\n",
      "m of A called\n"
     ]
    }
   ],
   "source": [
    "class A:\n",
    "    def m(self):\n",
    "        print(\"m of A called\")\n",
    "class B(A):\n",
    "    def m(self):\n",
    "        print(\"m of B called\")\n",
    "        A.m(self)\n",
    "class C(A):\n",
    "    def m(self):\n",
    "        print(\"m of C called\")\n",
    "        A.m(self)\n",
    "class D(B,C):\n",
    "    def m(self):\n",
    "        print(\"m of D called\")\n",
    "        B.m(self)\n",
    "        C.m(self)\n",
    "        \n",
    "c = D()\n",
    "c.m()"
   ]
  },
  {
   "cell_type": "code",
   "execution_count": 20,
   "metadata": {},
   "outputs": [
    {
     "name": "stdout",
     "output_type": "stream",
     "text": [
      "first\n",
      "total count=\n"
     ]
    }
   ],
   "source": [
    "class First(object):\n",
    "    def __init__(self):\n",
    "        print(\"first\")\n",
    "    def showCount():\n",
    "        print \"total count=\"  \n",
    "    \n",
    "    showCount = staticmethod(showCount)\n",
    "        \n",
    "a=First()\n",
    "First.showCount()      "
   ]
  },
  {
   "cell_type": "code",
   "execution_count": 23,
   "metadata": {},
   "outputs": [
    {
     "name": "stdout",
     "output_type": "stream",
     "text": [
      "a =  1 args =  (2, 3, 4, 5)\n"
     ]
    }
   ],
   "source": [
    "def f(a, *args):\n",
    "    print \"a = \", a,\"args = \", args\n",
    "    \n",
    "f(1, *[2,3,4,5]) "
   ]
  },
  {
   "cell_type": "code",
   "execution_count": 32,
   "metadata": {},
   "outputs": [
    {
     "name": "stdout",
     "output_type": "stream",
     "text": [
      "args in f1 is : (1, 2)\n",
      "f2: two args are  1 2\n"
     ]
    }
   ],
   "source": [
    "def f3(args):\n",
    "    print \"in f3 args=\", args, \" and sum =\",sum(args) #sum(iterable, start)\n",
    "def f2(a,b):\n",
    "    print \"f2: two args are \",a,b\n",
    "    # can take variable number of arguments in form of a tuple called args\n",
    "def f1(*ar):\n",
    "    print \"args in f1 is :\", ar\n",
    "    # * here indicates unpacking of args tuple to corresponding formals a,b of f2\n",
    "    f2(*ar)\n",
    "    # f3 is passed a tuple as first postional argument\n",
    "    #\n",
    "    \n",
    "f1(1,2)"
   ]
  },
  {
   "cell_type": "code",
   "execution_count": 38,
   "metadata": {},
   "outputs": [
    {
     "name": "stdout",
     "output_type": "stream",
     "text": [
      "fu\n",
      "in wrapper Only this thing: hello\n",
      "Only this thing: hello\n"
     ]
    }
   ],
   "source": [
    "def decorator(f):\n",
    "    def wrapper(arg):\n",
    "        'add a wrapper around f'\n",
    "        x=f(\"Only this thing: \" + arg)\n",
    "        print (\"in wrapper \"+ x)\n",
    "        return x\n",
    "    return wrapper\n",
    "\n",
    "@decorator\n",
    "def function(arg):\n",
    "    print (\"fu\")\n",
    "    return arg\n",
    "\n",
    "print function(\"hello\")"
   ]
  },
  {
   "cell_type": "code",
   "execution_count": 45,
   "metadata": {},
   "outputs": [
    {
     "name": "stdout",
     "output_type": "stream",
     "text": [
      "count is  1\n"
     ]
    },
    {
     "data": {
      "text/plain": [
       "6"
      ]
     },
     "execution_count": 45,
     "metadata": {},
     "output_type": "execute_result"
    }
   ],
   "source": [
    "def count_decorator(old):\n",
    "    count = [0] #initialize count once before returning the wrapper function\n",
    "    def count_wrapper(*args, **kwds):\n",
    "        count[0] += 1\n",
    "        print \"count is \", count[0]\n",
    "        return old(*args, **kwds)\n",
    "    return count_wrapper\n",
    "@count_decorator\n",
    "def function (a,b,c): \n",
    "    return a+b+c\n",
    "\n",
    "function (1,2,3)"
   ]
  },
  {
   "cell_type": "code",
   "execution_count": 49,
   "metadata": {},
   "outputs": [
    {
     "ename": "TypeError",
     "evalue": "'set' object does not support indexing",
     "output_type": "error",
     "traceback": [
      "\u001b[0;31m---------------------------------------------------------------------------\u001b[0m",
      "\u001b[0;31mTypeError\u001b[0m                                 Traceback (most recent call last)",
      "\u001b[0;32m<ipython-input-49-659e68ef4904>\u001b[0m in \u001b[0;36m<module>\u001b[0;34m()\u001b[0m\n\u001b[1;32m      1\u001b[0m \u001b[0mcount\u001b[0m \u001b[0;34m=\u001b[0m \u001b[0;34m{\u001b[0m\u001b[0;36m0\u001b[0m\u001b[0;34m,\u001b[0m\u001b[0;36m34\u001b[0m\u001b[0;34m,\u001b[0m\u001b[0;36m67\u001b[0m\u001b[0;34m}\u001b[0m\u001b[0;34m\u001b[0m\u001b[0m\n\u001b[0;32m----> 2\u001b[0;31m \u001b[0;32mprint\u001b[0m \u001b[0;34m(\u001b[0m\u001b[0mcount\u001b[0m\u001b[0;34m[\u001b[0m\u001b[0;36m2\u001b[0m\u001b[0;34m]\u001b[0m\u001b[0;34m)\u001b[0m\u001b[0;34m\u001b[0m\u001b[0m\n\u001b[0m",
      "\u001b[0;31mTypeError\u001b[0m: 'set' object does not support indexing"
     ]
    }
   ],
   "source": [
    "count = {0,34,67}\n",
    "print (count[2])"
   ]
  }
 ],
 "metadata": {
  "kernelspec": {
   "display_name": "Python 2",
   "language": "python",
   "name": "python2"
  },
  "language_info": {
   "codemirror_mode": {
    "name": "ipython",
    "version": 2
   },
   "file_extension": ".py",
   "mimetype": "text/x-python",
   "name": "python",
   "nbconvert_exporter": "python",
   "pygments_lexer": "ipython2",
   "version": "2.7.15rc1"
  }
 },
 "nbformat": 4,
 "nbformat_minor": 2
}
